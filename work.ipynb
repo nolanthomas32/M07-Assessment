{
 "cells": [
  {
   "cell_type": "code",
   "execution_count": 2,
   "metadata": {},
   "outputs": [],
   "source": [
    "import requests\n",
    "from dataclasses import dataclass, field\n",
    "from bs4 import BeautifulSoup\n",
    "from datetime import datetime, date\n",
    "import json\n",
    "from config import api_key"
   ]
  },
  {
   "cell_type": "code",
   "execution_count": 3,
   "metadata": {},
   "outputs": [],
   "source": [
    "@dataclass\n",
    "class Holiday:\n",
    "    name: str\n",
    "    date: datetime"
   ]
  },
  {
   "cell_type": "code",
   "execution_count": 4,
   "metadata": {},
   "outputs": [
    {
     "name": "stdout",
     "output_type": "stream",
     "text": [
      "Welcome to the Holiday addition screen!\n",
      "[Holiday(name='My Birthday', date='2022-08-30')] has been added!\n"
     ]
    }
   ],
   "source": [
    "active = True\n",
    "def add_holiday_1():\n",
    "        print('Welcome to the Holiday addition screen!')\n",
    "        while active:\n",
    "            holidays = []\n",
    "            hol_name = input(\"Enter the Holiday name here: \")\n",
    "            hol_date = input('Enter Holiday date here in the form of YYYY-MM-DD: ')\n",
    "            \n",
    "            # Holiday(name = hol_name, date= hol_date)\n",
    "            holiday_object = Holiday(name = hol_name, date = hol_date)\n",
    "            holidays.append(holiday_object)\n",
    "            print(f'{holidays} has been added!')\n",
    "            cont = input('Would you like to add another holiday? (y/n) ')\n",
    "            if cont == 'y':\n",
    "                continue\n",
    "            else:\n",
    "                break\n",
    "\n",
    "        \n",
    "\n",
    "\n",
    "add_holiday_1()"
   ]
  },
  {
   "cell_type": "code",
   "execution_count": 170,
   "metadata": {},
   "outputs": [
    {
     "name": "stdout",
     "output_type": "stream",
     "text": [
      "That name did not work. Please try again\n"
     ]
    }
   ],
   "source": [
    "active = True\n",
    "def remove_holiday_2():\n",
    "    while active:\n",
    "        hol_year = int(input('Select year to remove Holiday from: '))\n",
    "        if hol_year != 2020 and hol_year != 2021 and hol_year != 2022 and hol_year != 2023 and hol_year != 2024:\n",
    "            print('Please select a valid year')\n",
    "        if hol_year == 2020:\n",
    "            with open('holiday_2020.json') as json_file:\n",
    "                data = json.load(json_file)\n",
    "                hol_name = input('Type the name of the holiday to remove')\n",
    "                if data.values() == hol_name:\n",
    "                    data.pop(hol_name)\n",
    "                    print(f'{hol_name} has been removed!')\n",
    "                else:\n",
    "                    print('That name did not work. Please try again')   \n",
    "            cont = input('Would you like to remove another holiday? (y/n) ')\n",
    "            if cont == 'y':\n",
    "                continue\n",
    "            else:\n",
    "                break       \n",
    "remove_holiday_2()"
   ]
  },
  {
   "cell_type": "code",
   "execution_count": 124,
   "metadata": {},
   "outputs": [
    {
     "name": "stdout",
     "output_type": "stream",
     "text": [
      "View Holidays\n"
     ]
    },
    {
     "ename": "FileNotFoundError",
     "evalue": "[Errno 2] No such file or directory: 'M07-Assessment\\\\holidays_2020.json'",
     "output_type": "error",
     "traceback": [
      "\u001b[1;31m---------------------------------------------------------------------------\u001b[0m",
      "\u001b[1;31mFileNotFoundError\u001b[0m                         Traceback (most recent call last)",
      "\u001b[1;32mc:\\Users\\nolan\\Desktop\\Dev10 Training\\M07 Object Oriented Data Modeling\\M07-Assessment\\work.ipynb Cell 5\u001b[0m in \u001b[0;36m<cell line: 15>\u001b[1;34m()\u001b[0m\n\u001b[0;32m     <a href='vscode-notebook-cell:/c%3A/Users/nolan/Desktop/Dev10%20Training/M07%20Object%20Oriented%20Data%20Modeling/M07-Assessment/work.ipynb#X31sZmlsZQ%3D%3D?line=12'>13</a>\u001b[0m                 holiday_object \u001b[39m=\u001b[39m Holiday(name \u001b[39m=\u001b[39m i[\u001b[39m'\u001b[39m\u001b[39mname\u001b[39m\u001b[39m'\u001b[39m], date \u001b[39m=\u001b[39m i[\u001b[39m'\u001b[39m\u001b[39mdate\u001b[39m\u001b[39m'\u001b[39m])\n\u001b[0;32m     <a href='vscode-notebook-cell:/c%3A/Users/nolan/Desktop/Dev10%20Training/M07%20Object%20Oriented%20Data%20Modeling/M07-Assessment/work.ipynb#X31sZmlsZQ%3D%3D?line=13'>14</a>\u001b[0m                 holidays\u001b[39m.\u001b[39mappend(holiday_object)\n\u001b[1;32m---> <a href='vscode-notebook-cell:/c%3A/Users/nolan/Desktop/Dev10%20Training/M07%20Object%20Oriented%20Data%20Modeling/M07-Assessment/work.ipynb#X31sZmlsZQ%3D%3D?line=14'>15</a>\u001b[0m view_holiday_3()\n",
      "\u001b[1;32mc:\\Users\\nolan\\Desktop\\Dev10 Training\\M07 Object Oriented Data Modeling\\M07-Assessment\\work.ipynb Cell 5\u001b[0m in \u001b[0;36mview_holiday_3\u001b[1;34m()\u001b[0m\n\u001b[0;32m      <a href='vscode-notebook-cell:/c%3A/Users/nolan/Desktop/Dev10%20Training/M07%20Object%20Oriented%20Data%20Modeling/M07-Assessment/work.ipynb#X31sZmlsZQ%3D%3D?line=6'>7</a>\u001b[0m     \u001b[39mprint\u001b[39m(\u001b[39m'\u001b[39m\u001b[39mPlease select a valid year.\u001b[39m\u001b[39m'\u001b[39m)\n\u001b[0;32m      <a href='vscode-notebook-cell:/c%3A/Users/nolan/Desktop/Dev10%20Training/M07%20Object%20Oriented%20Data%20Modeling/M07-Assessment/work.ipynb#X31sZmlsZQ%3D%3D?line=7'>8</a>\u001b[0m \u001b[39mif\u001b[39;00m view_year \u001b[39m==\u001b[39m \u001b[39m2020\u001b[39m:\n\u001b[1;32m----> <a href='vscode-notebook-cell:/c%3A/Users/nolan/Desktop/Dev10%20Training/M07%20Object%20Oriented%20Data%20Modeling/M07-Assessment/work.ipynb#X31sZmlsZQ%3D%3D?line=8'>9</a>\u001b[0m     \u001b[39mwith\u001b[39;00m \u001b[39mopen\u001b[39;49m(\u001b[39m'\u001b[39;49m\u001b[39mM07-Assessment\u001b[39;49m\u001b[39m\\\\\u001b[39;49;00m\u001b[39mholidays_2020.json\u001b[39;49m\u001b[39m'\u001b[39;49m) \u001b[39mas\u001b[39;00m json_file:\n\u001b[0;32m     <a href='vscode-notebook-cell:/c%3A/Users/nolan/Desktop/Dev10%20Training/M07%20Object%20Oriented%20Data%20Modeling/M07-Assessment/work.ipynb#X31sZmlsZQ%3D%3D?line=9'>10</a>\u001b[0m         data \u001b[39m=\u001b[39m json\u001b[39m.\u001b[39mload(json_file)\n\u001b[0;32m     <a href='vscode-notebook-cell:/c%3A/Users/nolan/Desktop/Dev10%20Training/M07%20Object%20Oriented%20Data%20Modeling/M07-Assessment/work.ipynb#X31sZmlsZQ%3D%3D?line=10'>11</a>\u001b[0m     holidays \u001b[39m=\u001b[39m []\n",
      "\u001b[1;31mFileNotFoundError\u001b[0m: [Errno 2] No such file or directory: 'M07-Assessment\\\\holidays_2020.json'"
     ]
    }
   ],
   "source": []
  },
  {
   "cell_type": "code",
   "execution_count": 5,
   "metadata": {},
   "outputs": [
    {
     "ename": "TypeError",
     "evalue": "__init__() missing 1 required positional argument: 'date'",
     "output_type": "error",
     "traceback": [
      "\u001b[1;31m---------------------------------------------------------------------------\u001b[0m",
      "\u001b[1;31mTypeError\u001b[0m                                 Traceback (most recent call last)",
      "\u001b[1;32mc:\\Users\\nolan\\Desktop\\Dev10 Training\\M07 Object Oriented Data Modeling\\M07-Assessment\\work.ipynb Cell 3\u001b[0m in \u001b[0;36m<cell line: 13>\u001b[1;34m()\u001b[0m\n\u001b[0;32m     <a href='vscode-notebook-cell:/c%3A/Users/nolan/Desktop/Dev10%20Training/M07%20Object%20Oriented%20Data%20Modeling/M07-Assessment/work.ipynb#W2sZmlsZQ%3D%3D?line=11'>12</a>\u001b[0m holidays \u001b[39m=\u001b[39m []\n\u001b[0;32m     <a href='vscode-notebook-cell:/c%3A/Users/nolan/Desktop/Dev10%20Training/M07%20Object%20Oriented%20Data%20Modeling/M07-Assessment/work.ipynb#W2sZmlsZQ%3D%3D?line=12'>13</a>\u001b[0m \u001b[39mfor\u001b[39;00m holiday \u001b[39min\u001b[39;00m tr:\n\u001b[1;32m---> <a href='vscode-notebook-cell:/c%3A/Users/nolan/Desktop/Dev10%20Training/M07%20Object%20Oriented%20Data%20Modeling/M07-Assessment/work.ipynb#W2sZmlsZQ%3D%3D?line=13'>14</a>\u001b[0m     holiday_object \u001b[39m=\u001b[39m Holiday(name \u001b[39m=\u001b[39;49m holiday\u001b[39m.\u001b[39;49mtext)\n\u001b[0;32m     <a href='vscode-notebook-cell:/c%3A/Users/nolan/Desktop/Dev10%20Training/M07%20Object%20Oriented%20Data%20Modeling/M07-Assessment/work.ipynb#W2sZmlsZQ%3D%3D?line=14'>15</a>\u001b[0m     holidays\u001b[39m.\u001b[39mappend(holiday_object)\n\u001b[0;32m     <a href='vscode-notebook-cell:/c%3A/Users/nolan/Desktop/Dev10%20Training/M07%20Object%20Oriented%20Data%20Modeling/M07-Assessment/work.ipynb#W2sZmlsZQ%3D%3D?line=16'>17</a>\u001b[0m \u001b[39mprint\u001b[39m(\u001b[39mtype\u001b[39m(table))\n",
      "\u001b[1;31mTypeError\u001b[0m: __init__() missing 1 required positional argument: 'date'"
     ]
    }
   ],
   "source": [
    "response = requests.get('https://www.timeanddate.com/holidays/us/2022?hol=33554809')\n",
    "html = response.text\n",
    "parsed_html = BeautifulSoup(html, \"html.parser\")\n",
    "\n",
    "table = parsed_html.find('table', attrs= {\"id\":\"holidays-table\"})\n",
    "body = table.find('tbody')\n",
    "tr = body.find_all('tr', attrs={\"class\":\"showrow\"})\n",
    "\n",
    "holidays = []\n",
    "for holiday in tr:\n",
    "    holiday_object = Holiday(name = holiday.text)\n",
    "    holidays.append(holiday_object)\n",
    "\n",
    "print(type(table))\n",
    "print(type(body))\n",
    "print(type(tr))\n",
    "\n",
    "print(len(holidays))\n",
    "print(type(holidays))\n",
    "# print(holidays[0:125])\n",
    "# print(holidays.string)\n",
    "# # holiday_22_list = holiday\n",
    "# holidays = [i.split('\\xa0', 1)[0] for i in holidays]\n",
    "# print(holidays[0])\n",
    "print(holidays[0])\n",
    "print(type(holidays[0]))\n",
    "\n",
    "new_years = holidays[0]\n",
    "print(new_years)"
   ]
  },
  {
   "cell_type": "code",
   "execution_count": null,
   "metadata": {},
   "outputs": [],
   "source": [
    "#TO GET A LIST OF 2022 HOLIDAYS\n",
    "response = requests.get('https://www.timeanddate.com/holidays/us/2022?hol=33554809')\n",
    "html = response.text\n",
    "parsed_html = BeautifulSoup(html, \"html.parser\")\n",
    "\n",
    "table = parsed_html.find('table', attrs= {\"id\":\"holidays-table\"})\n",
    "body = table.find('tbody')\n",
    "tr = body.find_all('tr', attrs={\"class\":\"showrow\"})\n",
    "\n",
    "th_all = body.find_all(\"tr\", attrs={\"class\":\"showrow\"})#, \"class\":\"nw\"})\n",
    "\n",
    "# print(type(th_all))\n",
    "# print(th_all)\n",
    "holidays = []\n",
    "for holiday in tr:\n",
    "    holiday_object = Holiday(name = holiday.text[6:], date = holiday.text[:6])\n",
    "    holidays.append(holiday_object)\n",
    "\n",
    "holidays"
   ]
  },
  {
   "cell_type": "code",
   "execution_count": null,
   "metadata": {},
   "outputs": [],
   "source": [
    "response = requests.get('https://www.timeanddate.com/holidays/us/2021?hol=33554809')\n",
    "html = response.text\n",
    "parsed_html = BeautifulSoup(html, \"html.parser\")\n",
    "\n",
    "table = parsed_html.find('table', attrs= {\"id\":\"holidays-table\"})\n",
    "body = table.find('tbody')\n",
    "tr = body.find_all('tr', attrs={\"class\":\"showrow\"})\n",
    "\n",
    "th_all = body.find_all(\"tr\", attrs={\"class\":\"showrow\"})#, \"class\":\"nw\"})\n",
    "\n",
    "# print(type(th_all))\n",
    "# print(th_all)\n",
    "holidays = []\n",
    "for holiday in tr:\n",
    "    holiday_object = Holiday(name = holiday.text[6:], date = holiday.text[:6])\n",
    "    holidays.append(holiday_object)\n",
    "\n",
    "holidays"
   ]
  },
  {
   "cell_type": "code",
   "execution_count": null,
   "metadata": {},
   "outputs": [],
   "source": [
    "response = requests.get('https://www.timeanddate.com/holidays/us/2020?hol=33554809')\n",
    "html = response.text\n",
    "parsed_html = BeautifulSoup(html, \"html.parser\")\n",
    "\n",
    "table = parsed_html.find('table', attrs= {\"id\":\"holidays-table\"})\n",
    "body = table.find('tbody')\n",
    "tr = body.find_all('tr', attrs={\"class\":\"showrow\"})\n",
    "\n",
    "th_all = body.find_all(\"tr\", attrs={\"class\":\"showrow\"})#, \"class\":\"nw\"})\n",
    "\n",
    "# print(type(th_all))\n",
    "# print(th_all)\n",
    "holidays = []\n",
    "for holiday in tr:\n",
    "    holiday_object = Holiday(name = holiday.text[6:], date = holiday.text[:6])\n",
    "    holidays.append(holiday_object)\n",
    "\n",
    "holidays"
   ]
  },
  {
   "cell_type": "code",
   "execution_count": null,
   "metadata": {},
   "outputs": [],
   "source": [
    "response = requests.get('https://www.timeanddate.com/holidays/us/2023?hol=33554809')\n",
    "html = response.text\n",
    "parsed_html = BeautifulSoup(html, \"html.parser\")\n",
    "\n",
    "table = parsed_html.find('table', attrs= {\"id\":\"holidays-table\"})\n",
    "body = table.find('tbody')\n",
    "tr = body.find_all('tr', attrs={\"class\":\"showrow\"})\n",
    "\n",
    "th_all = body.find_all(\"tr\", attrs={\"class\":\"showrow\"})#, \"class\":\"nw\"})\n",
    "\n",
    "# print(type(th_all))\n",
    "# print(th_all)\n",
    "holidays = []\n",
    "for holiday in tr:\n",
    "    holiday_object = Holiday(name = holiday.text[6:], date = holiday.text[:6])\n",
    "    holidays.append(holiday_object)\n",
    "\n",
    "holidays"
   ]
  },
  {
   "cell_type": "code",
   "execution_count": null,
   "metadata": {},
   "outputs": [],
   "source": [
    "response = requests.get('https://www.timeanddate.com/holidays/us/2024?hol=33554809')\n",
    "html = response.text\n",
    "parsed_html = BeautifulSoup(html, \"html.parser\")\n",
    "\n",
    "table = parsed_html.find('table', attrs= {\"id\":\"holidays-table\"})\n",
    "body = table.find('tbody')\n",
    "tr = body.find_all('tr', attrs={\"class\":\"showrow\"})\n",
    "\n",
    "th_all = body.find_all(\"tr\", attrs={\"class\":\"showrow\"})#, \"class\":\"nw\"})\n",
    "\n",
    "# print(type(th_all))\n",
    "# print(th_all)\n",
    "holidays = []\n",
    "for holiday in tr:\n",
    "    holiday_object = Holiday(name = holiday.text[6:], date = holiday.text[:6])\n",
    "    holidays.append(holiday_object)\n",
    "\n",
    "holidays"
   ]
  },
  {
   "cell_type": "code",
   "execution_count": 155,
   "metadata": {},
   "outputs": [
    {
     "ename": "TypeError",
     "evalue": "Object of type Holiday is not JSON serializable",
     "output_type": "error",
     "traceback": [
      "\u001b[1;31m---------------------------------------------------------------------------\u001b[0m",
      "\u001b[1;31mTypeError\u001b[0m                                 Traceback (most recent call last)",
      "\u001b[1;32mc:\\Users\\nolan\\Desktop\\Dev10 Training\\M07 Object Oriented Data Modeling\\M07-Assessment\\work.ipynb Cell 5\u001b[0m in \u001b[0;36m<cell line: 5>\u001b[1;34m()\u001b[0m\n\u001b[0;32m      <a href='vscode-notebook-cell:/c%3A/Users/nolan/Desktop/Dev10%20Training/M07%20Object%20Oriented%20Data%20Modeling/M07-Assessment/work.ipynb#W5sZmlsZQ%3D%3D?line=1'>2</a>\u001b[0m     \u001b[39mwith\u001b[39;00m \u001b[39mopen\u001b[39m(\u001b[39m\"\u001b[39m\u001b[39mholidays.json\u001b[39m\u001b[39m\"\u001b[39m,\u001b[39m\"\u001b[39m\u001b[39mw\u001b[39m\u001b[39m\"\u001b[39m):\n\u001b[0;32m      <a href='vscode-notebook-cell:/c%3A/Users/nolan/Desktop/Dev10%20Training/M07%20Object%20Oriented%20Data%20Modeling/M07-Assessment/work.ipynb#W5sZmlsZQ%3D%3D?line=2'>3</a>\u001b[0m         jsonStr \u001b[39m=\u001b[39m json\u001b[39m.\u001b[39mdumps(holidays)\n\u001b[1;32m----> <a href='vscode-notebook-cell:/c%3A/Users/nolan/Desktop/Dev10%20Training/M07%20Object%20Oriented%20Data%20Modeling/M07-Assessment/work.ipynb#W5sZmlsZQ%3D%3D?line=4'>5</a>\u001b[0m create_json()\n",
      "\u001b[1;32mc:\\Users\\nolan\\Desktop\\Dev10 Training\\M07 Object Oriented Data Modeling\\M07-Assessment\\work.ipynb Cell 5\u001b[0m in \u001b[0;36mcreate_json\u001b[1;34m()\u001b[0m\n\u001b[0;32m      <a href='vscode-notebook-cell:/c%3A/Users/nolan/Desktop/Dev10%20Training/M07%20Object%20Oriented%20Data%20Modeling/M07-Assessment/work.ipynb#W5sZmlsZQ%3D%3D?line=0'>1</a>\u001b[0m \u001b[39mdef\u001b[39;00m \u001b[39mcreate_json\u001b[39m():\n\u001b[0;32m      <a href='vscode-notebook-cell:/c%3A/Users/nolan/Desktop/Dev10%20Training/M07%20Object%20Oriented%20Data%20Modeling/M07-Assessment/work.ipynb#W5sZmlsZQ%3D%3D?line=1'>2</a>\u001b[0m     \u001b[39mwith\u001b[39;00m \u001b[39mopen\u001b[39m(\u001b[39m\"\u001b[39m\u001b[39mholidays.json\u001b[39m\u001b[39m\"\u001b[39m,\u001b[39m\"\u001b[39m\u001b[39mw\u001b[39m\u001b[39m\"\u001b[39m):\n\u001b[1;32m----> <a href='vscode-notebook-cell:/c%3A/Users/nolan/Desktop/Dev10%20Training/M07%20Object%20Oriented%20Data%20Modeling/M07-Assessment/work.ipynb#W5sZmlsZQ%3D%3D?line=2'>3</a>\u001b[0m         jsonStr \u001b[39m=\u001b[39m json\u001b[39m.\u001b[39;49mdumps(holidays)\n",
      "File \u001b[1;32mc:\\Users\\nolan\\anaconda3\\lib\\json\\__init__.py:231\u001b[0m, in \u001b[0;36mdumps\u001b[1;34m(obj, skipkeys, ensure_ascii, check_circular, allow_nan, cls, indent, separators, default, sort_keys, **kw)\u001b[0m\n\u001b[0;32m    226\u001b[0m \u001b[39m# cached encoder\u001b[39;00m\n\u001b[0;32m    227\u001b[0m \u001b[39mif\u001b[39;00m (\u001b[39mnot\u001b[39;00m skipkeys \u001b[39mand\u001b[39;00m ensure_ascii \u001b[39mand\u001b[39;00m\n\u001b[0;32m    228\u001b[0m     check_circular \u001b[39mand\u001b[39;00m allow_nan \u001b[39mand\u001b[39;00m\n\u001b[0;32m    229\u001b[0m     \u001b[39mcls\u001b[39m \u001b[39mis\u001b[39;00m \u001b[39mNone\u001b[39;00m \u001b[39mand\u001b[39;00m indent \u001b[39mis\u001b[39;00m \u001b[39mNone\u001b[39;00m \u001b[39mand\u001b[39;00m separators \u001b[39mis\u001b[39;00m \u001b[39mNone\u001b[39;00m \u001b[39mand\u001b[39;00m\n\u001b[0;32m    230\u001b[0m     default \u001b[39mis\u001b[39;00m \u001b[39mNone\u001b[39;00m \u001b[39mand\u001b[39;00m \u001b[39mnot\u001b[39;00m sort_keys \u001b[39mand\u001b[39;00m \u001b[39mnot\u001b[39;00m kw):\n\u001b[1;32m--> 231\u001b[0m     \u001b[39mreturn\u001b[39;00m _default_encoder\u001b[39m.\u001b[39;49mencode(obj)\n\u001b[0;32m    232\u001b[0m \u001b[39mif\u001b[39;00m \u001b[39mcls\u001b[39m \u001b[39mis\u001b[39;00m \u001b[39mNone\u001b[39;00m:\n\u001b[0;32m    233\u001b[0m     \u001b[39mcls\u001b[39m \u001b[39m=\u001b[39m JSONEncoder\n",
      "File \u001b[1;32mc:\\Users\\nolan\\anaconda3\\lib\\json\\encoder.py:199\u001b[0m, in \u001b[0;36mJSONEncoder.encode\u001b[1;34m(self, o)\u001b[0m\n\u001b[0;32m    195\u001b[0m         \u001b[39mreturn\u001b[39;00m encode_basestring(o)\n\u001b[0;32m    196\u001b[0m \u001b[39m# This doesn't pass the iterator directly to ''.join() because the\u001b[39;00m\n\u001b[0;32m    197\u001b[0m \u001b[39m# exceptions aren't as detailed.  The list call should be roughly\u001b[39;00m\n\u001b[0;32m    198\u001b[0m \u001b[39m# equivalent to the PySequence_Fast that ''.join() would do.\u001b[39;00m\n\u001b[1;32m--> 199\u001b[0m chunks \u001b[39m=\u001b[39m \u001b[39mself\u001b[39;49m\u001b[39m.\u001b[39;49miterencode(o, _one_shot\u001b[39m=\u001b[39;49m\u001b[39mTrue\u001b[39;49;00m)\n\u001b[0;32m    200\u001b[0m \u001b[39mif\u001b[39;00m \u001b[39mnot\u001b[39;00m \u001b[39misinstance\u001b[39m(chunks, (\u001b[39mlist\u001b[39m, \u001b[39mtuple\u001b[39m)):\n\u001b[0;32m    201\u001b[0m     chunks \u001b[39m=\u001b[39m \u001b[39mlist\u001b[39m(chunks)\n",
      "File \u001b[1;32mc:\\Users\\nolan\\anaconda3\\lib\\json\\encoder.py:257\u001b[0m, in \u001b[0;36mJSONEncoder.iterencode\u001b[1;34m(self, o, _one_shot)\u001b[0m\n\u001b[0;32m    252\u001b[0m \u001b[39melse\u001b[39;00m:\n\u001b[0;32m    253\u001b[0m     _iterencode \u001b[39m=\u001b[39m _make_iterencode(\n\u001b[0;32m    254\u001b[0m         markers, \u001b[39mself\u001b[39m\u001b[39m.\u001b[39mdefault, _encoder, \u001b[39mself\u001b[39m\u001b[39m.\u001b[39mindent, floatstr,\n\u001b[0;32m    255\u001b[0m         \u001b[39mself\u001b[39m\u001b[39m.\u001b[39mkey_separator, \u001b[39mself\u001b[39m\u001b[39m.\u001b[39mitem_separator, \u001b[39mself\u001b[39m\u001b[39m.\u001b[39msort_keys,\n\u001b[0;32m    256\u001b[0m         \u001b[39mself\u001b[39m\u001b[39m.\u001b[39mskipkeys, _one_shot)\n\u001b[1;32m--> 257\u001b[0m \u001b[39mreturn\u001b[39;00m _iterencode(o, \u001b[39m0\u001b[39;49m)\n",
      "File \u001b[1;32mc:\\Users\\nolan\\anaconda3\\lib\\json\\encoder.py:179\u001b[0m, in \u001b[0;36mJSONEncoder.default\u001b[1;34m(self, o)\u001b[0m\n\u001b[0;32m    160\u001b[0m \u001b[39mdef\u001b[39;00m \u001b[39mdefault\u001b[39m(\u001b[39mself\u001b[39m, o):\n\u001b[0;32m    161\u001b[0m     \u001b[39m\"\"\"Implement this method in a subclass such that it returns\u001b[39;00m\n\u001b[0;32m    162\u001b[0m \u001b[39m    a serializable object for ``o``, or calls the base implementation\u001b[39;00m\n\u001b[0;32m    163\u001b[0m \u001b[39m    (to raise a ``TypeError``).\u001b[39;00m\n\u001b[1;32m   (...)\u001b[0m\n\u001b[0;32m    177\u001b[0m \n\u001b[0;32m    178\u001b[0m \u001b[39m    \"\"\"\u001b[39;00m\n\u001b[1;32m--> 179\u001b[0m     \u001b[39mraise\u001b[39;00m \u001b[39mTypeError\u001b[39;00m(\u001b[39mf\u001b[39m\u001b[39m'\u001b[39m\u001b[39mObject of type \u001b[39m\u001b[39m{\u001b[39;00mo\u001b[39m.\u001b[39m\u001b[39m__class__\u001b[39m\u001b[39m.\u001b[39m\u001b[39m__name__\u001b[39m\u001b[39m}\u001b[39;00m\u001b[39m \u001b[39m\u001b[39m'\u001b[39m\n\u001b[0;32m    180\u001b[0m                     \u001b[39mf\u001b[39m\u001b[39m'\u001b[39m\u001b[39mis not JSON serializable\u001b[39m\u001b[39m'\u001b[39m)\n",
      "\u001b[1;31mTypeError\u001b[0m: Object of type Holiday is not JSON serializable"
     ]
    }
   ],
   "source": [
    "def create_json():\n",
    "    with open(\"holidays.json\",\"w\"):\n",
    "        jsonStr = json.dumps(holidays)\n",
    "\n",
    "create_json()"
   ]
  },
  {
   "cell_type": "code",
   "execution_count": 14,
   "metadata": {},
   "outputs": [
    {
     "name": "stdout",
     "output_type": "stream",
     "text": [
      "dict_keys(['@context', 'type', 'geometry', 'properties'])\n"
     ]
    }
   ],
   "source": [
    "#14 day forecast from weather.gov\n",
    "response = requests.get(\"https://api.weather.gov/gridpoints/MKX/87,64/forecast\")\n",
    "weather_json = response.json()\n",
    "# dict_weather = weather_json['jokes']\n",
    "\n",
    "print(weather_json.keys())\n",
    "\n",
    "# joke_list = []\n",
    "# for joke in dict_jokes:\n",
    "#     joke_object = Joke(joke['id'], joke['joke'], None)\n",
    "#     joke_list.append(joke_object)\n",
    "\n",
    "# joke_list"
   ]
  },
  {
   "cell_type": "code",
   "execution_count": 26,
   "metadata": {},
   "outputs": [
    {
     "data": {
      "text/plain": [
       "dict_keys(['updated', 'units', 'forecastGenerator', 'generatedAt', 'updateTime', 'validTimes', 'elevation', 'periods'])"
      ]
     },
     "execution_count": 26,
     "metadata": {},
     "output_type": "execute_result"
    }
   ],
   "source": [
    "response = requests.get(\"https://api.weather.gov/gridpoints/MKX/87,64/forecast\")\n",
    "weather_json = response.json()\n",
    "test = weather_json['properties']\n",
    "test.keys()\n"
   ]
  },
  {
   "cell_type": "code",
   "execution_count": 105,
   "metadata": {},
   "outputs": [
    {
     "name": "stdout",
     "output_type": "stream",
     "text": [
      "{'number': 1, 'name': 'Tonight', 'startTime': '2022-08-28T19:00:00-05:00', 'endTime': '2022-08-29T06:00:00-05:00', 'isDaytime': False, 'temperature': 71, 'temperatureUnit': 'F', 'temperatureTrend': None, 'windSpeed': '5 to 10 mph', 'windDirection': 'S', 'icon': 'https://api.weather.gov/icons/land/night/tsra_hi,40/bkn?size=medium', 'shortForecast': 'Chance Showers And Thunderstorms then Mostly Cloudy', 'detailedForecast': 'A chance of showers and thunderstorms before 9pm. Mostly cloudy, with a low around 71. South wind 5 to 10 mph. Chance of precipitation is 40%. New rainfall amounts between a tenth and quarter of an inch possible.'}\n",
      "{'number': 2, 'name': 'Monday', 'startTime': '2022-08-29T06:00:00-05:00', 'endTime': '2022-08-29T18:00:00-05:00', 'isDaytime': True, 'temperature': 85, 'temperatureUnit': 'F', 'temperatureTrend': None, 'windSpeed': '10 to 15 mph', 'windDirection': 'SW', 'icon': 'https://api.weather.gov/icons/land/day/tsra_hi,30?size=medium', 'shortForecast': 'Chance Showers And Thunderstorms', 'detailedForecast': 'A chance of showers and thunderstorms before 5pm. Partly sunny, with a high near 85. Southwest wind 10 to 15 mph. Chance of precipitation is 30%. New rainfall amounts less than a tenth of an inch possible.'}\n",
      "{'number': 3, 'name': 'Monday Night', 'startTime': '2022-08-29T18:00:00-05:00', 'endTime': '2022-08-30T06:00:00-05:00', 'isDaytime': False, 'temperature': 64, 'temperatureUnit': 'F', 'temperatureTrend': None, 'windSpeed': '5 to 10 mph', 'windDirection': 'W', 'icon': 'https://api.weather.gov/icons/land/night/sct?size=medium', 'shortForecast': 'Partly Cloudy', 'detailedForecast': 'Partly cloudy, with a low around 64. West wind 5 to 10 mph.'}\n",
      "{'number': 4, 'name': 'Tuesday', 'startTime': '2022-08-30T06:00:00-05:00', 'endTime': '2022-08-30T18:00:00-05:00', 'isDaytime': True, 'temperature': 80, 'temperatureUnit': 'F', 'temperatureTrend': None, 'windSpeed': '10 to 15 mph', 'windDirection': 'W', 'icon': 'https://api.weather.gov/icons/land/day/few?size=medium', 'shortForecast': 'Sunny', 'detailedForecast': 'Sunny, with a high near 80. West wind 10 to 15 mph.'}\n",
      "{'number': 5, 'name': 'Tuesday Night', 'startTime': '2022-08-30T18:00:00-05:00', 'endTime': '2022-08-31T06:00:00-05:00', 'isDaytime': False, 'temperature': 62, 'temperatureUnit': 'F', 'temperatureTrend': None, 'windSpeed': '10 to 15 mph', 'windDirection': 'NW', 'icon': 'https://api.weather.gov/icons/land/night/skc?size=medium', 'shortForecast': 'Clear', 'detailedForecast': 'Clear, with a low around 62. Northwest wind 10 to 15 mph.'}\n",
      "{'number': 6, 'name': 'Wednesday', 'startTime': '2022-08-31T06:00:00-05:00', 'endTime': '2022-08-31T18:00:00-05:00', 'isDaytime': True, 'temperature': 79, 'temperatureUnit': 'F', 'temperatureTrend': None, 'windSpeed': '10 to 15 mph', 'windDirection': 'NW', 'icon': 'https://api.weather.gov/icons/land/day/skc?size=medium', 'shortForecast': 'Sunny', 'detailedForecast': 'Sunny, with a high near 79. Northwest wind 10 to 15 mph.'}\n",
      "{'number': 7, 'name': 'Wednesday Night', 'startTime': '2022-08-31T18:00:00-05:00', 'endTime': '2022-09-01T06:00:00-05:00', 'isDaytime': False, 'temperature': 58, 'temperatureUnit': 'F', 'temperatureTrend': None, 'windSpeed': '5 to 10 mph', 'windDirection': 'NW', 'icon': 'https://api.weather.gov/icons/land/night/few?size=medium', 'shortForecast': 'Mostly Clear', 'detailedForecast': 'Mostly clear, with a low around 58. Northwest wind 5 to 10 mph.'}\n"
     ]
    }
   ],
   "source": [
    "def get_weather():\n",
    "    response = requests.get(\"https://api.weather.gov/gridpoints/MKX/87,64/forecast\")\n",
    "    weather_json = response.json()\n",
    "    test = weather_json['properties']\n",
    "    weather_info = test['periods']\n",
    "    print(weather_info[0])\n",
    "    print(weather_info[1])\n",
    "    print(weather_info[2])\n",
    "    print(weather_info[3])\n",
    "    print(weather_info[4])\n",
    "    print(weather_info[5])\n",
    "    print(weather_info[6])\n",
    "\n",
    "get_weather()"
   ]
  },
  {
   "cell_type": "code",
   "execution_count": null,
   "metadata": {},
   "outputs": [],
   "source": [
    "with open('holidays_2022.json') as json_file:\n",
    "    data = json.load(json_file)\n",
    "\n",
    "    # for reading nested data [0] represents\n",
    "    # the index value of the list\n",
    "    print(data['holidays_2022'][6])\n",
    "     \n",
    "    # for printing the key-value pair of\n",
    "    # nested dictionary for loop can be used\n",
    "    print(\"\\nPrinting nested dictionary as a key-value pair\\n\")\n",
    "for i in data['holidays_2022']:\n",
    "    print(\"Name:\", i['name'])\n",
    "    print(\"date:\", i['date'])\n",
    "    print()\n"
   ]
  },
  {
   "cell_type": "code",
   "execution_count": null,
   "metadata": {},
   "outputs": [],
   "source": [
    "with open('holidays_2021.json') as json_file:\n",
    "    data = json.load(json_file)\n",
    "\n",
    "    # for reading nested data [0] represents\n",
    "    # the index value of the list\n",
    "    print(data['holidays_2021'][6])\n",
    "     \n",
    "    # for printing the key-value pair of\n",
    "    # nested dictionary for loop can be used\n",
    "    print(\"\\nPrinting nested dictionary as a key-value pair\\n\")\n",
    "for i in data['holidays_2021']:\n",
    "    print(\"Name:\", i['name'])\n",
    "    print(\"date:\", i['date'])\n",
    "    print()"
   ]
  },
  {
   "cell_type": "code",
   "execution_count": null,
   "metadata": {},
   "outputs": [],
   "source": [
    "with open('holidays_2020.json') as json_file:\n",
    "    data = json.load(json_file)\n",
    "\n",
    "    # for reading nested data [0] represents\n",
    "    # the index value of the list\n",
    "    print(data['holidays_2020'][6])\n",
    "     \n",
    "    # for printing the key-value pair of\n",
    "    # nested dictionary for loop can be used\n",
    "    print(\"\\nPrinting nested dictionary as a key-value pair\\n\")\n",
    "for i in data['holidays_2020']:\n",
    "    print(\"Name:\", i['name'])\n",
    "    print(\"date:\", i['date'])\n",
    "    print()"
   ]
  },
  {
   "cell_type": "code",
   "execution_count": null,
   "metadata": {},
   "outputs": [],
   "source": [
    "with open('holidays_2023.json') as json_file:\n",
    "    data = json.load(json_file)\n",
    "\n",
    "    # for reading nested data [0] represents\n",
    "    # the index value of the list\n",
    "    print(data['holidays_2023'][6])\n",
    "    print(type(data['holidays_2023']))\n",
    "    # for printing the key-value pair of\n",
    "    # nested dictionary for loop can be used\n",
    "    print(\"\\nPrinting nested dictionary as a key-value pair\\n\")\n",
    "for i in data['holidays_2023']:\n",
    "    print(\"Name:\", i['name'])\n",
    "    print(\"date:\", i['date'])\n",
    "    print()\n",
    "print(type(data))"
   ]
  },
  {
   "cell_type": "code",
   "execution_count": null,
   "metadata": {},
   "outputs": [],
   "source": [
    "with open('holidays_2024.json') as json_file:\n",
    "    data = json.load(json_file)\n",
    "\n",
    "    # for reading nested data [0] represents\n",
    "    # the index value of the list\n",
    "    print(data['holidays_2024'][6])\n",
    "    print(type(data['holidays_2024']))\n",
    "    # for printing the key-value pair of\n",
    "    # nested dictionary for loop can be used\n",
    "    print(\"\\nPrinting nested dictionary as a key-value pair\\n\")\n",
    "for i in data['holidays_2024']:\n",
    "    print(\"Name:\", i['name'])\n",
    "    print(\"date:\", i['date'])\n",
    "    print()\n",
    "print(type(data))"
   ]
  },
  {
   "cell_type": "code",
   "execution_count": null,
   "metadata": {},
   "outputs": [],
   "source": [
    "with open('test.json') as test:\n",
    "    info = json.load(test)\n",
    "    name = info['holidays_2020']\n",
    "    # date = info['date']\n",
    "    print(name)\n",
    "    print(type(name))\n",
    "    print(info.keys())\n",
    "\n"
   ]
  },
  {
   "cell_type": "code",
   "execution_count": 126,
   "metadata": {},
   "outputs": [
    {
     "name": "stdout",
     "output_type": "stream",
     "text": [
      "{'name': 'First Day of Black History Month', 'date': '2020-02-01'}\n"
     ]
    }
   ],
   "source": [
    "with open('test.json') as json_file:\n",
    "    data = json.load(json_file)\n",
    "\n",
    "    # for reading nested data [0] represents\n",
    "    # the index value of the list\n",
    "    print(data['holidays_2020'][6])\n",
    "     \n",
    "    # for printing the key-value pair of\n",
    "    # nested dictionary for loop can be used\n",
    "    # print(\"\\nPrinting nested dictionary as a key-value pair\\n\")\n",
    "# for i in data['holidays_2020']:\n",
    "#     print(\"Name:\", i['name'])\n",
    "#     print(\"date:\", i['date'])\n",
    "#     print()\n",
    "\n",
    "# holidays = []\n",
    "# for holiday in tr:\n",
    "#     holiday_object = Holiday(name = holiday.text[6:], date = holiday.text[:6])\n",
    "#     holidays.append(holiday_object)\n",
    "\n",
    "\n",
    "# holidays = []\n",
    "# for i in data['holidays_2020']:\n",
    "#     holiday_object = Holiday(name = i['name'], date = i['date'])\n",
    "#     holidays.append(holiday_object)\n",
    "\n",
    "\n",
    "# holidays\n",
    "\n",
    "# holidays[0:12]\n"
   ]
  },
  {
   "cell_type": "code",
   "execution_count": 172,
   "metadata": {},
   "outputs": [
    {
     "name": "stdout",
     "output_type": "stream",
     "text": [
      "<class 'list'>\n"
     ]
    }
   ],
   "source": [
    "print(type(holidays))\n",
    "# holiday_list = [holidays.__dict__]"
   ]
  },
  {
   "cell_type": "code",
   "execution_count": 183,
   "metadata": {},
   "outputs": [
    {
     "name": "stdout",
     "output_type": "stream",
     "text": [
      "Save Changes\n",
      "============\n"
     ]
    },
    {
     "ename": "TypeError",
     "evalue": "Object of type Holiday is not JSON serializable",
     "output_type": "error",
     "traceback": [
      "\u001b[1;31m---------------------------------------------------------------------------\u001b[0m",
      "\u001b[1;31mTypeError\u001b[0m                                 Traceback (most recent call last)",
      "\u001b[1;32mc:\\Users\\nolan\\Desktop\\Dev10 Training\\M07 Object Oriented Data Modeling\\M07-Assessment\\work.ipynb Cell 24\u001b[0m in \u001b[0;36m<cell line: 20>\u001b[1;34m()\u001b[0m\n\u001b[0;32m     <a href='vscode-notebook-cell:/c%3A/Users/nolan/Desktop/Dev10%20Training/M07%20Object%20Oriented%20Data%20Modeling/M07-Assessment/work.ipynb#X25sZmlsZQ%3D%3D?line=16'>17</a>\u001b[0m         \u001b[39mwith\u001b[39;00m \u001b[39mopen\u001b[39m(\u001b[39m'\u001b[39m\u001b[39mholidays.json\u001b[39m\u001b[39m'\u001b[39m, \u001b[39m'\u001b[39m\u001b[39mw\u001b[39m\u001b[39m'\u001b[39m) \u001b[39mas\u001b[39;00m file:\n\u001b[0;32m     <a href='vscode-notebook-cell:/c%3A/Users/nolan/Desktop/Dev10%20Training/M07%20Object%20Oriented%20Data%20Modeling/M07-Assessment/work.ipynb#X25sZmlsZQ%3D%3D?line=17'>18</a>\u001b[0m             json\u001b[39m.\u001b[39mdump(holidays[:\u001b[39mlen\u001b[39m(holidays)], file)\n\u001b[1;32m---> <a href='vscode-notebook-cell:/c%3A/Users/nolan/Desktop/Dev10%20Training/M07%20Object%20Oriented%20Data%20Modeling/M07-Assessment/work.ipynb#X25sZmlsZQ%3D%3D?line=19'>20</a>\u001b[0m save_4()\n",
      "\u001b[1;32mc:\\Users\\nolan\\Desktop\\Dev10 Training\\M07 Object Oriented Data Modeling\\M07-Assessment\\work.ipynb Cell 24\u001b[0m in \u001b[0;36msave_4\u001b[1;34m()\u001b[0m\n\u001b[0;32m     <a href='vscode-notebook-cell:/c%3A/Users/nolan/Desktop/Dev10%20Training/M07%20Object%20Oriented%20Data%20Modeling/M07-Assessment/work.ipynb#X25sZmlsZQ%3D%3D?line=15'>16</a>\u001b[0m \u001b[39melse\u001b[39;00m:\n\u001b[0;32m     <a href='vscode-notebook-cell:/c%3A/Users/nolan/Desktop/Dev10%20Training/M07%20Object%20Oriented%20Data%20Modeling/M07-Assessment/work.ipynb#X25sZmlsZQ%3D%3D?line=16'>17</a>\u001b[0m     \u001b[39mwith\u001b[39;00m \u001b[39mopen\u001b[39m(\u001b[39m'\u001b[39m\u001b[39mholidays.json\u001b[39m\u001b[39m'\u001b[39m, \u001b[39m'\u001b[39m\u001b[39mw\u001b[39m\u001b[39m'\u001b[39m) \u001b[39mas\u001b[39;00m file:\n\u001b[1;32m---> <a href='vscode-notebook-cell:/c%3A/Users/nolan/Desktop/Dev10%20Training/M07%20Object%20Oriented%20Data%20Modeling/M07-Assessment/work.ipynb#X25sZmlsZQ%3D%3D?line=17'>18</a>\u001b[0m         json\u001b[39m.\u001b[39;49mdump(holidays[:\u001b[39mlen\u001b[39;49m(holidays)], file)\n",
      "File \u001b[1;32mc:\\Users\\nolan\\anaconda3\\lib\\json\\__init__.py:179\u001b[0m, in \u001b[0;36mdump\u001b[1;34m(obj, fp, skipkeys, ensure_ascii, check_circular, allow_nan, cls, indent, separators, default, sort_keys, **kw)\u001b[0m\n\u001b[0;32m    173\u001b[0m     iterable \u001b[39m=\u001b[39m \u001b[39mcls\u001b[39m(skipkeys\u001b[39m=\u001b[39mskipkeys, ensure_ascii\u001b[39m=\u001b[39mensure_ascii,\n\u001b[0;32m    174\u001b[0m         check_circular\u001b[39m=\u001b[39mcheck_circular, allow_nan\u001b[39m=\u001b[39mallow_nan, indent\u001b[39m=\u001b[39mindent,\n\u001b[0;32m    175\u001b[0m         separators\u001b[39m=\u001b[39mseparators,\n\u001b[0;32m    176\u001b[0m         default\u001b[39m=\u001b[39mdefault, sort_keys\u001b[39m=\u001b[39msort_keys, \u001b[39m*\u001b[39m\u001b[39m*\u001b[39mkw)\u001b[39m.\u001b[39miterencode(obj)\n\u001b[0;32m    177\u001b[0m \u001b[39m# could accelerate with writelines in some versions of Python, at\u001b[39;00m\n\u001b[0;32m    178\u001b[0m \u001b[39m# a debuggability cost\u001b[39;00m\n\u001b[1;32m--> 179\u001b[0m \u001b[39mfor\u001b[39;00m chunk \u001b[39min\u001b[39;00m iterable:\n\u001b[0;32m    180\u001b[0m     fp\u001b[39m.\u001b[39mwrite(chunk)\n",
      "File \u001b[1;32mc:\\Users\\nolan\\anaconda3\\lib\\json\\encoder.py:429\u001b[0m, in \u001b[0;36m_make_iterencode.<locals>._iterencode\u001b[1;34m(o, _current_indent_level)\u001b[0m\n\u001b[0;32m    427\u001b[0m     \u001b[39myield\u001b[39;00m _floatstr(o)\n\u001b[0;32m    428\u001b[0m \u001b[39melif\u001b[39;00m \u001b[39misinstance\u001b[39m(o, (\u001b[39mlist\u001b[39m, \u001b[39mtuple\u001b[39m)):\n\u001b[1;32m--> 429\u001b[0m     \u001b[39myield from\u001b[39;00m _iterencode_list(o, _current_indent_level)\n\u001b[0;32m    430\u001b[0m \u001b[39melif\u001b[39;00m \u001b[39misinstance\u001b[39m(o, \u001b[39mdict\u001b[39m):\n\u001b[0;32m    431\u001b[0m     \u001b[39myield from\u001b[39;00m _iterencode_dict(o, _current_indent_level)\n",
      "File \u001b[1;32mc:\\Users\\nolan\\anaconda3\\lib\\json\\encoder.py:325\u001b[0m, in \u001b[0;36m_make_iterencode.<locals>._iterencode_list\u001b[1;34m(lst, _current_indent_level)\u001b[0m\n\u001b[0;32m    323\u001b[0m         \u001b[39melse\u001b[39;00m:\n\u001b[0;32m    324\u001b[0m             chunks \u001b[39m=\u001b[39m _iterencode(value, _current_indent_level)\n\u001b[1;32m--> 325\u001b[0m         \u001b[39myield from\u001b[39;00m chunks\n\u001b[0;32m    326\u001b[0m \u001b[39mif\u001b[39;00m newline_indent \u001b[39mis\u001b[39;00m \u001b[39mnot\u001b[39;00m \u001b[39mNone\u001b[39;00m:\n\u001b[0;32m    327\u001b[0m     _current_indent_level \u001b[39m-\u001b[39m\u001b[39m=\u001b[39m \u001b[39m1\u001b[39m\n",
      "File \u001b[1;32mc:\\Users\\nolan\\anaconda3\\lib\\json\\encoder.py:438\u001b[0m, in \u001b[0;36m_make_iterencode.<locals>._iterencode\u001b[1;34m(o, _current_indent_level)\u001b[0m\n\u001b[0;32m    436\u001b[0m         \u001b[39mraise\u001b[39;00m \u001b[39mValueError\u001b[39;00m(\u001b[39m\"\u001b[39m\u001b[39mCircular reference detected\u001b[39m\u001b[39m\"\u001b[39m)\n\u001b[0;32m    437\u001b[0m     markers[markerid] \u001b[39m=\u001b[39m o\n\u001b[1;32m--> 438\u001b[0m o \u001b[39m=\u001b[39m _default(o)\n\u001b[0;32m    439\u001b[0m \u001b[39myield from\u001b[39;00m _iterencode(o, _current_indent_level)\n\u001b[0;32m    440\u001b[0m \u001b[39mif\u001b[39;00m markers \u001b[39mis\u001b[39;00m \u001b[39mnot\u001b[39;00m \u001b[39mNone\u001b[39;00m:\n",
      "File \u001b[1;32mc:\\Users\\nolan\\anaconda3\\lib\\json\\encoder.py:179\u001b[0m, in \u001b[0;36mJSONEncoder.default\u001b[1;34m(self, o)\u001b[0m\n\u001b[0;32m    160\u001b[0m \u001b[39mdef\u001b[39;00m \u001b[39mdefault\u001b[39m(\u001b[39mself\u001b[39m, o):\n\u001b[0;32m    161\u001b[0m     \u001b[39m\"\"\"Implement this method in a subclass such that it returns\u001b[39;00m\n\u001b[0;32m    162\u001b[0m \u001b[39m    a serializable object for ``o``, or calls the base implementation\u001b[39;00m\n\u001b[0;32m    163\u001b[0m \u001b[39m    (to raise a ``TypeError``).\u001b[39;00m\n\u001b[1;32m   (...)\u001b[0m\n\u001b[0;32m    177\u001b[0m \n\u001b[0;32m    178\u001b[0m \u001b[39m    \"\"\"\u001b[39;00m\n\u001b[1;32m--> 179\u001b[0m     \u001b[39mraise\u001b[39;00m \u001b[39mTypeError\u001b[39;00m(\u001b[39mf\u001b[39m\u001b[39m'\u001b[39m\u001b[39mObject of type \u001b[39m\u001b[39m{\u001b[39;00mo\u001b[39m.\u001b[39m\u001b[39m__class__\u001b[39m\u001b[39m.\u001b[39m\u001b[39m__name__\u001b[39m\u001b[39m}\u001b[39;00m\u001b[39m \u001b[39m\u001b[39m'\u001b[39m\n\u001b[0;32m    180\u001b[0m                     \u001b[39mf\u001b[39m\u001b[39m'\u001b[39m\u001b[39mis not JSON serializable\u001b[39m\u001b[39m'\u001b[39m)\n",
      "\u001b[1;31mTypeError\u001b[0m: Object of type Holiday is not JSON serializable"
     ]
    }
   ],
   "source": [
    "from tkinter import Y\n",
    "\n",
    "\n",
    "def save_4():\n",
    "    print('Save Changes')\n",
    "    print('============')\n",
    "    while True:\n",
    "        global confirm_save\n",
    "        confirm_save = input('Save changes to JSON? [y/n]')\n",
    "        if (confirm_save != 'y' and confirm_save != 'n'):\n",
    "            print('\\nInvalid input. Please try again\\n')\n",
    "        else: break\n",
    "\n",
    "    if confirm_save == 'n':\n",
    "        print('\\n Abort! Returning to Main Menu\\n')\n",
    "    else:\n",
    "        with open('holidays.json', 'w') as file:\n",
    "            json.dump(holidays, file)\n",
    "\n",
    "save_4()"
   ]
  },
  {
   "cell_type": "code",
   "execution_count": 5,
   "metadata": {},
   "outputs": [
    {
     "ename": "TypeError",
     "evalue": "unbound method date.isocalendar() needs an argument",
     "output_type": "error",
     "traceback": [
      "\u001b[1;31m---------------------------------------------------------------------------\u001b[0m",
      "\u001b[1;31mTypeError\u001b[0m                                 Traceback (most recent call last)",
      "\u001b[1;32mc:\\Users\\nolan\\Desktop\\Dev10 Training\\M07 Object Oriented Data Modeling\\M07-Assessment\\work.ipynb Cell 25\u001b[0m in \u001b[0;36m<cell line: 1>\u001b[1;34m()\u001b[0m\n\u001b[1;32m----> <a href='vscode-notebook-cell:/c%3A/Users/nolan/Desktop/Dev10%20Training/M07%20Object%20Oriented%20Data%20Modeling/M07-Assessment/work.ipynb#X33sZmlsZQ%3D%3D?line=0'>1</a>\u001b[0m datetime\u001b[39m.\u001b[39;49misocalendar()\n",
      "\u001b[1;31mTypeError\u001b[0m: unbound method date.isocalendar() needs an argument"
     ]
    }
   ],
   "source": [
    "datetime.isocalendar()"
   ]
  },
  {
   "cell_type": "code",
   "execution_count": null,
   "metadata": {},
   "outputs": [],
   "source": []
  }
 ],
 "metadata": {
  "kernelspec": {
   "display_name": "Python 3.9.12 ('base')",
   "language": "python",
   "name": "python3"
  },
  "language_info": {
   "codemirror_mode": {
    "name": "ipython",
    "version": 3
   },
   "file_extension": ".py",
   "mimetype": "text/x-python",
   "name": "python",
   "nbconvert_exporter": "python",
   "pygments_lexer": "ipython3",
   "version": "3.9.12"
  },
  "orig_nbformat": 4,
  "vscode": {
   "interpreter": {
    "hash": "cc53f4922f8645180ac6239953a178b6dc4f0b4a453103d3428c161a65e3e559"
   }
  }
 },
 "nbformat": 4,
 "nbformat_minor": 2
}
